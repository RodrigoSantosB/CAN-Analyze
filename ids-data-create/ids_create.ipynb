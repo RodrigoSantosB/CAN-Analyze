{
 "cells": [
  {
   "cell_type": "code",
   "execution_count": null,
   "metadata": {},
   "outputs": [
    {
     "ename": "",
     "evalue": "",
     "output_type": "error",
     "traceback": [
      "\u001b[1;31mThe kernel failed to start as the Python Environment 'Python 3.11.4' is no longer available. Consider selecting another kernel or refreshing the list of Python Environments."
     ]
    }
   ],
   "source": [
    "from can_data_extract import DataExtract"
   ]
  },
  {
   "cell_type": "code",
   "execution_count": 8,
   "metadata": {},
   "outputs": [
    {
     "name": "stdout",
     "output_type": "stream",
     "text": [
      "Dados rotulados foram salvos em /home/rsb6/Desktop/LIVE/algorithms/CAN-Network--LIVE-study-/IDs_train/data_labels/supress_data_attck.txt\n"
     ]
    }
   ],
   "source": [
    "\n",
    "if __name__ == \"__main__\":\n",
    "    \n",
    "    PATH = r\"/home/rsb6/Desktop/LIVE/algorithms/CAN-Network--LIVE-study-/IDs_train/\"\n",
    "        \n",
    "    dtx = DataExtract()\n",
    "    \n",
    "    input_path = 'dataset-attck'\n",
    "    output_path = 'data-labeled'\n",
    "    \n",
    "    # data_file = PATH + f'{input_path}/benigno.txt'  # Input file\n",
    "    # output_file = PATH + f'{input_path}/benign_column.txt'  # Output file\n",
    "        \n",
    "    # data_dict = dtx.extract_data_ids(data_file)\n",
    "\n",
    "    # dtx.save_dict(output_file, data_dict)\n",
    "        \n",
    "    # print(f\"Dictionary has been saved in {output_file}\")\n",
    "    \n",
    "    \n",
    "    # benign_data = PATH + f'{input_path}/benign_column.txt'\n",
    "    # ids_benignos = dtx.read_file_to_variable(benign_data)\n",
    "    \n",
    "    #digite o nome do ataque \n",
    "    attck = 'supress'\n",
    "    \n",
    "    # ids_benignos = {'3D4', '03A', '141', '026', '0FF', '02C'}  # IDs que são considerados benignos\n",
    "    input_data = PATH + f'{input_path}/{attck}_attck'  # Arquivo de entrada\n",
    "    output_file = PATH + f'{output_path}/{attck}_data_attck.txt'  # Arquivo de saída\n",
    "    # print(ids_benignos) \n",
    "    \n",
    "    # rotula os dados com base no arquivo de dados original (benigno)\n",
    "    labeled_data = dtx.label_data(input_data, attack_type=f'{attck}_attck')\n",
    "    \n",
    "    # salva um arquivo txt com uma coluna de rótulos\n",
    "    dtx.save_labeled_data(output_file, labeled_data)\n",
    "    \n",
    "    print(f\"Dados rotulados foram salvos em {output_file}\")\n"
   ]
  }
 ],
 "metadata": {
  "kernelspec": {
   "display_name": "base",
   "language": "python",
   "name": "python3"
  },
  "language_info": {
   "codemirror_mode": {
    "name": "ipython",
    "version": 3
   },
   "file_extension": ".py",
   "mimetype": "text/x-python",
   "name": "python",
   "nbconvert_exporter": "python",
   "pygments_lexer": "ipython3",
   "version": "3.11.4"
  }
 },
 "nbformat": 4,
 "nbformat_minor": 2
}
